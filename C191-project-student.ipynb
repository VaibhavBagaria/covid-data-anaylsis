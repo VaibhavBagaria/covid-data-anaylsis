{
 "cells": [
  {
   "cell_type": "raw",
   "metadata": {},
   "source": []
  },
  {
   "cell_type": "code",
   "execution_count": 1,
   "metadata": {},
   "outputs": [
    {
     "name": "stdout",
     "output_type": "stream",
     "text": [
      "Name : \n",
      "This is a CSV of more than 200 rows which has Covide data.\n",
      "The task is to find out top 5 the counties who has the least number of cases\n",
      "Another task is to find out top 5 the counties who has the maximum number of deaths\n",
      "Another task is to find out top 5 the counties who has the maximum number of active cases\n"
     ]
    }
   ],
   "source": [
    "print(\"Name : \")\n",
    "print(\"This is a CSV of more than 200 rows which has Covide data.\")\n",
    "print(\"The task is to find out top 5 the countries who are least affected by covid\")\n",
    "print(\"Another task is to find out top 5 the countries who has the maximum number of deaths\")\n",
    "print(\"Another task is to find out top 5 the countries who has the maximum number of active cases\")\n"
   ]
  },
  {
   "cell_type": "code",
   "execution_count": 8,
   "metadata": {},
   "outputs": [
    {
     "name": "stdout",
     "output_type": "stream",
     "text": [
      "                   country  total_cases new_cases  total_deaths  new_deaths  \\\n",
      "212  Saint Pierre Miquelon            1         0             0         0.0   \n",
      "211                Lesotho            1         0             0         0.0   \n",
      "210               Anguilla            3         0             0         0.0   \n",
      "207  Caribbean Netherlands            6         0             0         0.0   \n",
      "209         Western Sahara            6         0             0         0.0   \n",
      "..                     ...          ...       ...           ...         ...   \n",
      "4                       UK       250908         0         36042         0.0   \n",
      "3                    Spain       280117         0         27940         0.0   \n",
      "2                   Brazil       310921         0         20082         0.0   \n",
      "1                   Russia       326448      8894          3249       150.0   \n",
      "0                      USA      1621196       294         96359         5.0   \n",
      "\n",
      "     total_recovered  active_cases  active_critical  total_tests  population  \n",
      "212                1             0                0            0        5797  \n",
      "211                0             1                0            0     2140374  \n",
      "210                3             0                0            0       14988  \n",
      "207                6             0                0          424       26196  \n",
      "209                6             0                0            0      595583  \n",
      "..               ...           ...              ...          ...         ...  \n",
      "4               1918        212948             1559      3090566    67847158  \n",
      "3             196958         55219             1152      3037840    46752851  \n",
      "2             125960        164879             8318       735224   212393298  \n",
      "1              99825        223374             2300      8126626   145927804  \n",
      "0             382244       1142593            17907     13479242   330790544  \n",
      "\n",
      "[213 rows x 10 columns]\n",
      "212    1\n",
      "211    1\n",
      "210    3\n",
      "207    6\n",
      "209    6\n",
      "Name: total_cases, dtype: int64\n",
      "212    Saint Pierre Miquelon\n",
      "211                  Lesotho\n",
      "210                 Anguilla\n",
      "207    Caribbean Netherlands\n",
      "209           Western Sahara\n",
      "Name: country, dtype: object\n",
      "4        UK\n",
      "3     Spain\n",
      "2    Brazil\n",
      "1    Russia\n",
      "0       USA\n",
      "Name: country, dtype: object\n",
      "4    36042\n",
      "3    27940\n",
      "2    20082\n",
      "1     3249\n",
      "0    96359\n",
      "Name: total_deaths, dtype: int64\n"
     ]
    },
    {
     "data": {
      "text/plain": [
       "<BarContainer object of 5 artists>"
      ]
     },
     "execution_count": 8,
     "metadata": {},
     "output_type": "execute_result"
    },
    {
     "data": {
      "image/png": "[encoded data removed]",
      "text/plain": [
       "<Figure size 432x288 with 1 Axes>"
      ]
     },
     "metadata": {
      "needs_background": "light"
     },
     "output_type": "display_data"
    }
   ],
   "source": [
    "#Covide Data \n",
    "import  numpy as np\n",
    "import pandas as pd\n",
    "from matplotlib import pyplot as plt\n",
    "\n",
    "\n",
    "dataframe = pd.read_csv('covid19.csv')\n",
    "df = dataframe.dropna()\n",
    "df\n",
    "\n",
    "sorted_df=df.sort_values(by='total_cases')\n",
    "print(sorted_df)\n",
    "lowest_cases = sorted_df['total_cases'].head(5)\n",
    "country = sorted_df['country'].head(5)\n",
    "\n",
    "\n",
    "print(lowest_cases)\n",
    "print(country)\n",
    "\n",
    "\n",
    "plt.xlabel('Countries')\n",
    "plt.ylabel('Total cases')\n",
    "plt.xticks(rotation='vertical')\n",
    "\n",
    "plt.bar(country,lowest_cases,width=0.4, color=('red','yellow','green','pink','blue'))\n"
   ]
  },
  {
   "cell_type": "code",
   "execution_count": 9,
   "metadata": {},
   "outputs": [
    {
     "name": "stdout",
     "output_type": "stream",
     "text": [
      "                   country  total_cases new_cases  total_deaths  new_deaths  \\\n",
      "212  Saint Pierre Miquelon            1         0             0         0.0   \n",
      "190                   Fiji           18         0             0         0.0   \n",
      "188                   Laos           19         0             0         0.0   \n",
      "132                    CAR          436         0             0         0.0   \n",
      "187                 Bhutan           21         0             0         0.0   \n",
      "..                     ...          ...       ...           ...         ...   \n",
      "3                    Spain       280117         0         27940         0.0   \n",
      "6                   France       181826         0         28215         0.0   \n",
      "5                    Italy       228006         0         32486         0.0   \n",
      "4                       UK       250908         0         36042         0.0   \n",
      "0                      USA      1621196       294         96359         5.0   \n",
      "\n",
      "     total_recovered  active_cases  active_critical  total_tests  population  \n",
      "212                1             0                0            0        5797  \n",
      "190               15             3                0         1300      895730  \n",
      "188               14             5                0         5044     7263530  \n",
      "132               18           418                0        11294     4820066  \n",
      "187                6            15                0        14843      770656  \n",
      "..               ...           ...              ...          ...         ...  \n",
      "3             196958         55219             1152      3037840    46752851  \n",
      "6              63858         89753             1745      1384633    65258007  \n",
      "5             134560         60960              640      3243398    60471198  \n",
      "4               1918        212948             1559      3090566    67847158  \n",
      "0             382244       1142593            17907     13479242   330790544  \n",
      "\n",
      "[213 rows x 10 columns]\n",
      "4        UK\n",
      "3     Spain\n",
      "2    Brazil\n",
      "1    Russia\n",
      "0       USA\n",
      "Name: country, dtype: object\n",
      "4    36042\n",
      "3    27940\n",
      "2    20082\n",
      "1     3249\n",
      "0    96359\n",
      "Name: total_deaths, dtype: int64\n"
     ]
    },
    {
     "data": {
      "text/plain": [
       "<BarContainer object of 5 artists>"
      ]
     },
     "execution_count": 9,
     "metadata": {},
     "output_type": "execute_result"
    },
    {
     "data": {
      "image/png": "[encoded data removed]",
      "text/plain": [
       "<Figure size 432x288 with 1 Axes>"
      ]
     },
     "metadata": {
      "needs_background": "light"
     },
     "output_type": "display_data"
    }
   ],
   "source": [
    "sorted_df=df.sort_values(by='total_deaths')\n",
    "print(sorted_df)\n",
    "\n",
    "highest_death = sorted_df['total_deaths'].tail(5)\n",
    "country = sorted_df['country'].tail(5)\n",
    "\n",
    "print(country)\n",
    "print(highest_death)\n",
    "\n",
    "plt.xlabel('Countries')\n",
    "plt.ylabel('Total Death')\n",
    "plt.xticks(rotation='vertical')\n",
    "\n",
    "plt.bar(country,highest_death,width=0.4, color=('red','yellow','green','pink','blue'))"
   ]
  },
  {
   "cell_type": "code",
   "execution_count": 12,
   "metadata": {},
   "outputs": [
    {
     "name": "stdout",
     "output_type": "stream",
     "text": [
      "                   country  total_cases new_cases  total_deaths  new_deaths  \\\n",
      "212  Saint Pierre Miquelon            1         0             0         0.0   \n",
      "180                Eritrea           39         0             0         0.0   \n",
      "192          New Caledonia           18         0             0         0.0   \n",
      "193            Saint Lucia           18         0             0         0.0   \n",
      "177                  Macao           45         0             0         0.0   \n",
      "..                     ...          ...       ...           ...         ...   \n",
      "6                   France       181826         0         28215         0.0   \n",
      "2                   Brazil       310921         0         20082         0.0   \n",
      "4                       UK       250908         0         36042         0.0   \n",
      "1                   Russia       326448      8894          3249       150.0   \n",
      "0                      USA      1621196       294         96359         5.0   \n",
      "\n",
      "     total_recovered  active_cases  active_critical  total_tests  population  \n",
      "212                1             0                0            0        5797  \n",
      "180               39             0                0            0     3540846  \n",
      "192               18             0                0         5454      285193  \n",
      "193               18             0                0          867      183536  \n",
      "177               45             0                0            0      648331  \n",
      "..               ...           ...              ...          ...         ...  \n",
      "6              63858         89753             1745      1384633    65258007  \n",
      "2             125960        164879             8318       735224   212393298  \n",
      "4               1918        212948             1559      3090566    67847158  \n",
      "1              99825        223374             2300      8126626   145927804  \n",
      "0             382244       1142593            17907     13479242   330790544  \n",
      "\n",
      "[213 rows x 10 columns]\n",
      "212    1\n",
      "211    1\n",
      "210    3\n",
      "207    6\n",
      "209    6\n",
      "Name: total_cases, dtype: int64\n",
      "6    France\n",
      "2    Brazil\n",
      "4        UK\n",
      "1    Russia\n",
      "0       USA\n",
      "Name: country, dtype: object\n"
     ]
    },
    {
     "data": {
      "text/plain": [
       "<BarContainer object of 5 artists>"
      ]
     },
     "execution_count": 12,
     "metadata": {},
     "output_type": "execute_result"
    },
    {
     "data": {
      "image/png": "[encoded data removed]",
      "text/plain": [
       "<Figure size 432x288 with 1 Axes>"
      ]
     },
     "metadata": {
      "needs_background": "light"
     },
     "output_type": "display_data"
    }
   ],
   "source": [
    "sorted_df=df.sort_values(by='active_cases')\n",
    "print(sorted_df)\n",
    "\n",
    "highest_cases = sorted_df['active_cases'].tail(5)\n",
    "country = sorted_df['country'].tail(5)\n",
    "\n",
    "\n",
    "print(lowest_cases)\n",
    "print(country)\n",
    "\n",
    "\n",
    "plt.xlabel('Countries')\n",
    "plt.ylabel('Active cases')\n",
    "plt.xticks(rotation='vertical')\n",
    "\n",
    "plt.bar(country,highest_cases,width=0.4, color=('red','yellow','green','pink','blue'))\n"
   ]
  },
  {
   "cell_type": "code",
   "execution_count": 3,
   "metadata": {},
   "outputs": [],
   "source": [
    "\n"
   ]
  },
  {
   "cell_type": "code",
   "execution_count": 4,
   "metadata": {},
   "outputs": [],
   "source": [
    "#Task 4\n",
    "#Get top 5 countries who has the maximum number of deaths and plot a bar graph\n",
    "\n",
    "\n"
   ]
  },
  {
   "cell_type": "code",
   "execution_count": 5,
   "metadata": {},
   "outputs": [],
   "source": [
    "#Task 5\n",
    "#Sort the data as per active cases\n",
    "\n"
   ]
  },
  {
   "cell_type": "code",
   "execution_count": 6,
   "metadata": {},
   "outputs": [],
   "source": [
    "#Task 6\n",
    "#Get top 5 countries who has the maximum number of active cases and plot a bar graph\n"
   ]
  },
  {
   "cell_type": "code",
   "execution_count": null,
   "metadata": {},
   "outputs": [],
   "source": []
  },
  {
   "cell_type": "code",
   "execution_count": null,
   "metadata": {},
   "outputs": [],
   "source": []
  }
 ],
 "metadata": {
  "kernelspec": {
   "display_name": "Python 3 (ipykernel)",
   "language": "python",
   "name": "python3"
  },
  "language_info": {
   "codemirror_mode": {
    "name": "ipython",
    "version": 3
   },
   "file_extension": ".py",
   "mimetype": "text/x-python",
   "name": "python",
   "nbconvert_exporter": "python",
   "pygments_lexer": "ipython3",
   "version": "3.9.7"
  }
 },
 "nbformat": 4,
 "nbformat_minor": 4
}
